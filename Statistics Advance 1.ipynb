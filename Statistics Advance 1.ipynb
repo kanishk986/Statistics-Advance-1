{
 "cells": [
  {
   "cell_type": "markdown",
   "metadata": {},
   "source": [
    "# Q1. What is the Probability density function?"
   ]
  },
  {
   "cell_type": "markdown",
   "metadata": {},
   "source": [
    "The PDF is used to define the density of continous randaom variable \n",
    "lying between a specific range .In other words, the probability density function produces the likelihood of values of the continuous random variable."
   ]
  },
  {
   "cell_type": "markdown",
   "metadata": {},
   "source": [
    "# Q2. What are the types of Probability distribution?"
   ]
  },
  {
   "cell_type": "markdown",
   "metadata": {},
   "source": [
    "Two types of Probability distribution are :\n",
    "    \n",
    "1) Continuous Probability distribution. \n",
    "\n",
    "2) Discrete Probability distribution."
   ]
  },
  {
   "cell_type": "markdown",
   "metadata": {},
   "source": [
    "# Q3. Write a Python function to calculate the probability density function of a normal distribution with given mean and standard deviation at a given point."
   ]
  },
  {
   "cell_type": "code",
   "execution_count": 13,
   "metadata": {},
   "outputs": [],
   "source": [
    "from scipy.stats import norm\n",
    "import numpy as np"
   ]
  },
  {
   "cell_type": "code",
   "execution_count": 16,
   "metadata": {},
   "outputs": [],
   "source": [
    "def fun(data):\n",
    "    \n",
    "    mean=np.mean(data)\n",
    "    std=np.std(data)\n",
    "    \n",
    "    probability_pdf=norm.pdf(3,loc=mean,scale=std)\n",
    "    \n",
    "    print(probability_pdf)"
   ]
  },
  {
   "cell_type": "code",
   "execution_count": 17,
   "metadata": {},
   "outputs": [
    {
     "name": "stdout",
     "output_type": "stream",
     "text": [
      "0.0804410163156249\n"
     ]
    }
   ],
   "source": [
    "s=-5\n",
    "e=5\n",
    "points=11\n",
    "\n",
    "data=np.linspace(s,e,points)\n",
    "\n",
    "fun(data)"
   ]
  },
  {
   "cell_type": "markdown",
   "metadata": {},
   "source": [
    "# Q4. What are the properties of Binomial distribution? Give two examples of events where binomial distribution can be applied."
   ]
  },
  {
   "cell_type": "markdown",
   "metadata": {},
   "source": [
    "Binomial Distribution is a discrete probability distribution that gives \n",
    "only 2 outcomes,such as tossing a coin ,taking a test"
   ]
  },
  {
   "cell_type": "markdown",
   "metadata": {},
   "source": [
    "There are two parameters n and p used here in a binomial distribution. The variable ‘n’ states the number of times the experiment runs and the variable ‘p’ tells the probability of any one outcome."
   ]
  },
  {
   "cell_type": "markdown",
   "metadata": {},
   "source": [
    "To find the number of male and female employees in an organisation.\n",
    "\n",
    "The number of votes collected by a candidate in an election is counted based on 0 or 1 probability."
   ]
  },
  {
   "cell_type": "markdown",
   "metadata": {},
   "source": [
    "# Q5. Generate a random sample of size 1000 from a binomial distribution with probability of success 0.4 and plot a histogram of the results using matplotlib."
   ]
  },
  {
   "cell_type": "code",
   "execution_count": 40,
   "metadata": {},
   "outputs": [],
   "source": [
    "import matplotlib.pyplot as plt"
   ]
  },
  {
   "cell_type": "code",
   "execution_count": 47,
   "metadata": {},
   "outputs": [],
   "source": [
    "a=np.random.binomial(5,0.4,1000)"
   ]
  },
  {
   "cell_type": "code",
   "execution_count": 48,
   "metadata": {},
   "outputs": [
    {
     "data": {
      "text/plain": [
       "1000"
      ]
     },
     "execution_count": 48,
     "metadata": {},
     "output_type": "execute_result"
    }
   ],
   "source": [
    "len(a)"
   ]
  },
  {
   "cell_type": "code",
   "execution_count": 49,
   "metadata": {},
   "outputs": [
    {
     "data": {
      "text/plain": [
       "(array([ 81.,   0., 252.,   0., 357.,   0., 220.,   0.,  82.,   8.]),\n",
       " array([0. , 0.5, 1. , 1.5, 2. , 2.5, 3. , 3.5, 4. , 4.5, 5. ]),\n",
       " <BarContainer object of 10 artists>)"
      ]
     },
     "execution_count": 49,
     "metadata": {},
     "output_type": "execute_result"
    },
    {
     "data": {
      "image/png": "[encoded data removed]",
      "text/plain": [
       "<Figure size 432x288 with 1 Axes>"
      ]
     },
     "metadata": {
      "needs_background": "light"
     },
     "output_type": "display_data"
    }
   ],
   "source": [
    "plt.hist(a)"
   ]
  },
  {
   "cell_type": "markdown",
   "metadata": {},
   "source": [
    "# Q6. Write a Python function to calculate the cumulative distribution function of a Poisson distribution with given mean at a given point."
   ]
  },
  {
   "cell_type": "code",
   "execution_count": 57,
   "metadata": {},
   "outputs": [],
   "source": [
    "def fun(data):\n",
    "    \n",
    "    mean=np.mean(data)\n",
    "    \n",
    "    cdf=norm.cdf(3,loc=mean)\n",
    "    \n",
    "    print(cdf)"
   ]
  },
  {
   "cell_type": "code",
   "execution_count": 58,
   "metadata": {},
   "outputs": [],
   "source": [
    "data=np.random.poisson(5,1000)"
   ]
  },
  {
   "cell_type": "code",
   "execution_count": 59,
   "metadata": {},
   "outputs": [
    {
     "name": "stdout",
     "output_type": "stream",
     "text": [
      "0.025291535135230112\n"
     ]
    }
   ],
   "source": [
    "fun(data)"
   ]
  },
  {
   "cell_type": "markdown",
   "metadata": {},
   "source": [
    "# Q7. How Binomial distribution different from Poisson distribution?"
   ]
  },
  {
   "cell_type": "markdown",
   "metadata": {},
   "source": [
    "Binomial Dist:\n",
    "    \n",
    "1) It has 2 parameter\n",
    "\n",
    "2) The number of attempts are fixed\n",
    "\n",
    "3) Has only 2 outcomes\n",
    "\n",
    "3)Probability of success is constatnt\n",
    "\n",
    "\n",
    "Poisson Dist:\n",
    "    \n",
    "1) has only one paramter \n",
    "\n",
    "2) Has Multiple outple outcomes over a period of time .\n",
    "\n",
    "3) The probability of success is extremely small."
   ]
  },
  {
   "cell_type": "markdown",
   "metadata": {},
   "source": [
    "# Q8. Generate a random sample of size 1000 from a Poisson distribution with mean 5 and calculate the sample mean and variance."
   ]
  },
  {
   "cell_type": "code",
   "execution_count": 67,
   "metadata": {},
   "outputs": [],
   "source": [
    "a=np.random.poisson(5,1000)"
   ]
  },
  {
   "cell_type": "code",
   "execution_count": 68,
   "metadata": {},
   "outputs": [
    {
     "data": {
      "text/plain": [
       "array([ 6,  1,  2,  4,  7,  3,  4,  9,  5,  4,  3,  1,  5,  8,  4,  6,  7,\n",
       "        5,  3,  2,  3,  5,  7,  1,  4,  4,  1,  2,  5,  3,  7,  4,  4,  5,\n",
       "        5,  4,  2,  1,  5,  3,  6,  6,  7,  6,  3,  3,  1,  9,  4,  5,  8,\n",
       "        8,  4,  7,  5,  7,  6,  5,  3,  5,  6, 10,  9,  8,  2,  4,  7,  6,\n",
       "        6,  1,  3,  7,  6,  5,  4,  6,  3,  4,  8,  4,  8, 11,  3,  8,  5,\n",
       "        6,  7,  5,  7,  6,  5,  4,  2,  3,  4,  1,  5,  6,  8,  4,  5,  7,\n",
       "        4,  5,  5,  5,  8,  8,  8,  5,  8,  5, 10,  5,  3,  6,  5,  3,  3,\n",
       "        2,  2,  7,  8,  8,  6,  3,  8,  5,  6,  6,  4,  3,  7,  6,  7,  4,\n",
       "        3,  5,  6,  7, 11,  2,  3,  7,  2,  6,  8,  4,  7,  6,  6,  6,  0,\n",
       "        4,  6,  4,  5,  6,  4,  6,  3,  6,  3,  4,  3,  3,  3,  5,  5,  5,\n",
       "        4,  5,  6,  4,  4,  6,  4,  2,  2, 10,  5,  5, 10,  3,  3,  2,  6,\n",
       "        6,  7,  0,  7,  1,  3,  8,  4,  8,  5,  6,  6,  2,  6,  2,  3,  2,\n",
       "        7,  4,  5,  7,  2,  6,  9,  4, 11,  5,  6,  3,  3,  7,  4,  1,  6,\n",
       "        6,  5,  5,  4,  4,  7,  4,  2, 11,  6,  7,  5,  5,  4,  3,  7,  6,\n",
       "        9,  7,  5,  3,  5,  6,  4,  4,  3,  7,  6,  3,  7,  3,  4,  5,  2,\n",
       "        7,  6,  8,  8,  2,  2,  7,  2,  4,  7,  2,  4,  2, 11,  8,  7,  6,\n",
       "        6,  1,  4,  8,  3,  3,  2,  8,  4,  3,  1,  5,  3,  3,  3,  7,  4,\n",
       "        4,  7, 12,  5,  2,  9,  5,  4,  6,  2,  7,  8,  5,  4,  4,  2,  9,\n",
       "        6,  5,  3,  8,  4,  6,  5,  6,  4,  9,  3,  1,  7,  3,  5,  2,  3,\n",
       "        5,  8,  5,  1,  4,  8,  7,  8,  6,  7,  1,  4,  7,  6,  7,  6,  4,\n",
       "        5,  2,  5,  7,  3,  3,  5,  4,  7,  7,  2,  8,  5,  7, 10,  5,  6,\n",
       "        5,  9,  6,  7,  5,  5,  6,  2,  4,  5,  4,  5,  1,  5,  6,  5,  4,\n",
       "        2,  6,  4,  4,  5,  7,  3,  3,  7,  1,  4,  3,  6, 10,  5,  4,  5,\n",
       "        9,  5,  3,  4,  3,  8,  3,  4,  6,  7,  1,  4,  4,  2,  3,  3,  6,\n",
       "        7,  5,  3,  6,  8,  2,  8,  4,  6,  6,  4,  8,  2,  5,  4,  9,  9,\n",
       "        5,  6,  8,  5,  8,  5,  8,  4,  3,  4,  7,  2,  7,  4,  5,  6,  8,\n",
       "        2,  4,  5,  7,  6,  7,  6,  5,  7,  5,  6,  9,  2,  6,  6,  8, 12,\n",
       "        6,  7,  5,  1,  4,  4,  4,  6,  4,  5,  7,  5,  7,  6,  6,  3,  4,\n",
       "        3,  5,  3,  2,  2,  5,  5,  4,  5,  5,  5,  6,  5,  3,  7,  9,  6,\n",
       "        6,  4,  4,  5,  7,  7,  6,  7,  6,  4,  5,  3,  7,  6,  2,  6,  2,\n",
       "        4,  4,  5,  5,  7,  8,  4,  3,  1,  3,  5,  8,  8,  4,  0,  4,  6,\n",
       "        7,  5,  3,  7,  6,  5,  1,  7,  6,  6,  7,  6, 12,  6,  2,  5,  4,\n",
       "        7,  5,  9,  4,  7,  6,  6,  6,  4,  5,  6,  5,  4,  3,  3, 10,  8,\n",
       "        7,  7,  6,  4,  5,  8,  7,  4,  4,  8,  7,  1,  8,  6,  6,  7,  3,\n",
       "        7,  6,  3,  3,  5, 10, 11,  4,  2,  2,  6, 12,  3,  9,  4,  3,  4,\n",
       "        3,  7,  3,  1,  4,  2,  7,  8,  3,  4, 11,  8,  6,  3,  4, 10,  4,\n",
       "        4,  8,  3,  6,  4,  4,  5,  6,  6,  6,  9,  4,  3,  2,  4,  3,  5,\n",
       "        7,  4,  2, 10,  5,  7,  8,  7,  6,  4,  4,  8,  5,  9,  5,  4,  4,\n",
       "        2,  7,  3,  6,  3,  5,  3,  4,  6, 10,  6,  7,  5,  7,  6,  6,  3,\n",
       "        6,  4,  3,  4,  6,  4,  4,  3,  6,  6,  5,  3,  5,  8,  8,  4, 11,\n",
       "        5,  2,  4,  6,  3,  3,  5,  7,  7,  4,  6,  4,  5,  4,  5,  6,  7,\n",
       "        6,  5,  3,  8,  7, 10,  3,  4,  6,  5,  4,  5,  8,  1,  9,  9,  4,\n",
       "        4,  7,  7,  4,  6,  4,  4,  2,  6,  6,  2,  4,  4,  5,  3,  6,  3,\n",
       "        4,  4,  6,  3,  7,  5,  6,  2,  5,  3,  9,  6,  1,  7,  8,  6,  8,\n",
       "        1,  7,  4,  8,  5,  7,  6,  4,  3,  1,  4,  5,  8,  6,  5,  2,  6,\n",
       "        5,  4, 11,  7,  5,  8,  3,  9,  5,  5,  4,  3,  4,  1,  6,  6,  2,\n",
       "        4,  2,  3,  3,  4,  5,  4,  2,  5,  2,  3,  6,  3,  7,  2,  3,  3,\n",
       "        7,  9,  7,  3,  4,  6,  1,  2,  2,  4,  2,  9,  3, 10,  2,  2,  2,\n",
       "        5,  4,  7,  6,  5,  4,  5,  5,  3,  2,  7,  4,  3,  4,  2,  5,  8,\n",
       "        7,  3,  7,  6,  8,  6,  7,  5,  5,  6,  3,  5,  3,  4,  2,  2,  3,\n",
       "        3,  4,  5,  4,  5,  7,  4,  6,  5,  4,  6, 11,  3,  4,  4,  8,  8,\n",
       "        4,  7,  7,  5,  3,  2,  6,  4,  5,  6,  4,  6,  5,  6,  8,  7,  6,\n",
       "        1,  6,  4, 10,  7,  3,  6,  6,  7,  2,  9,  7,  4,  4,  3, 11,  3,\n",
       "       12,  5,  3,  3,  3,  5,  5,  7,  2,  6,  5,  6,  6,  5,  4,  6,  4,\n",
       "        5,  5,  4,  6,  6,  7,  3,  5,  4,  3,  4,  3,  2,  1,  5,  4,  0,\n",
       "        6,  6,  8,  6,  4,  8,  6,  8,  7,  2,  3,  9,  4,  5,  5,  8,  2,\n",
       "        2,  5,  5,  6,  4,  9,  2,  4,  8,  4,  8,  1,  8,  1,  7,  5,  3,\n",
       "        1,  5,  4,  5,  5,  2,  6,  3,  4,  3, 10,  3,  4,  8,  5,  7,  3,\n",
       "        6,  4,  4,  4,  4,  8,  6,  4,  7,  2,  7,  4,  6,  7])"
      ]
     },
     "execution_count": 68,
     "metadata": {},
     "output_type": "execute_result"
    }
   ],
   "source": [
    "a"
   ]
  },
  {
   "cell_type": "code",
   "execution_count": 69,
   "metadata": {},
   "outputs": [
    {
     "data": {
      "text/plain": [
       "5.063"
      ]
     },
     "execution_count": 69,
     "metadata": {},
     "output_type": "execute_result"
    }
   ],
   "source": [
    "np.mean(a)"
   ]
  },
  {
   "cell_type": "code",
   "execution_count": 70,
   "metadata": {},
   "outputs": [
    {
     "data": {
      "text/plain": [
       "4.799031000000001"
      ]
     },
     "execution_count": 70,
     "metadata": {},
     "output_type": "execute_result"
    }
   ],
   "source": [
    "np.var(a)"
   ]
  },
  {
   "cell_type": "markdown",
   "metadata": {},
   "source": [
    "# Q9. How mean and variance are related in Binomial distribution and Poisson distribution?"
   ]
  },
  {
   "cell_type": "markdown",
   "metadata": {},
   "source": [
    "The mean of the binomial distribution is always equal to p, and the variance is always equal to pq/N."
   ]
  },
  {
   "cell_type": "markdown",
   "metadata": {},
   "source": [
    "The mean and the variance of the Poisson distribution are the same, which is equal to the average number of successes that occur in the given interval of time."
   ]
  },
  {
   "cell_type": "markdown",
   "metadata": {},
   "source": [
    "# Q10. In normal distribution with respect to mean position, where does the least frequent data appear?"
   ]
  },
  {
   "cell_type": "code",
   "execution_count": null,
   "metadata": {},
   "outputs": [],
   "source": []
  }
 ],
 "metadata": {
  "kernelspec": {
   "display_name": "Python 3",
   "language": "python",
   "name": "python3"
  },
  "language_info": {
   "codemirror_mode": {
    "name": "ipython",
    "version": 3
   },
   "file_extension": ".py",
   "mimetype": "text/x-python",
   "name": "python",
   "nbconvert_exporter": "python",
   "pygments_lexer": "ipython3",
   "version": "3.8.5"
  }
 },
 "nbformat": 4,
 "nbformat_minor": 4
}
